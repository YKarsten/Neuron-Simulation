{
 "cells": [
  {
   "cell_type": "markdown",
   "metadata": {},
   "source": [
    "## Neuron Simulations"
   ]
  },
  {
   "cell_type": "markdown",
   "metadata": {},
   "source": [
    "Neurons have complex biophysical properties that can be simulated using python.\n",
    "In the following I will present progressively more complex models of neuron simulation.\n",
    "The project will be concluded by an algorithm that translates auditory information into electrical signals that activate neurons in the cochlea (inner ear). Its a rudimentary approach to a cochela implant algorithm"
   ]
  },
  {
   "cell_type": "markdown",
   "metadata": {},
   "source": [
    "## The Leaky Integrate and Fire Model"
   ]
  },
  {
   "cell_type": "code",
   "execution_count": 47,
   "metadata": {},
   "outputs": [
    {
     "data": {
      "application/vnd.jupyter.widget-view+json": {
       "model_id": "5d1efee376934bb0b07beae6d22c19fe",
       "version_major": 2,
       "version_minor": 0
      },
      "text/plain": [
       "interactive(children=(FloatSlider(value=1e-05, continuous_update=False, description='Stimulation current (A)',…"
      ]
     },
     "execution_count": 47,
     "metadata": {},
     "output_type": "execute_result"
    }
   ],
   "source": [
    "import numpy as np\n",
    "import matplotlib.pyplot as plt\n",
    "import ipywidgets as widgets\n",
    "from IPython.display import display, clear_output\n",
    "\n",
    "\n",
    "def membrane_voltage(vm, i_stim, cm, g_leak, params):\n",
    "    r = 1 / g_leak\n",
    "    tau = cm * r\n",
    "\n",
    "    for index in range(len(params[\"time\"]) - 1):\n",
    "        if vm[index] < params[\"v_thr\"]:\n",
    "            vm[index + 1] = (((-vm[index] + params[\"v_rest\"]) / tau) + (i_stim[index] / cm)) * \\\n",
    "                            params[\"step_size\"] + vm[index]\n",
    "        elif vm[index] == params[\"v_spike\"]:\n",
    "            vm[index + 1] = params[\"v_rest\"]\n",
    "        elif vm[index] > params[\"v_thr\"]:\n",
    "            vm[index + 1] = params[\"v_spike\"]\n",
    "\n",
    "    return vm\n",
    "\n",
    "\n",
    "# Define the params dictionary\n",
    "params = {\n",
    "    \"v_rest\": -70e-3,\n",
    "    \"v_thr\": -30e-3,\n",
    "    \"v_spike\": 20e-3,\n",
    "    \"step_size\": 30e-6,\n",
    "    \"cm\": 1e-6,\n",
    "}\n",
    "\n",
    "params[\"time\"] = np.arange(0, 0.1, params[\"step_size\"])\n",
    "\n",
    "# Create an interactive plot using widgets.interact\n",
    "i_stim_slider = widgets.FloatSlider(\n",
    "    value=10e-6,\n",
    "    min=3e-6,\n",
    "    max=10e-6,\n",
    "    step=1e-6,\n",
    "    description='Stimulation current (A)',\n",
    "    continuous_update=False\n",
    ")\n",
    "\n",
    "def interactive_plot(i_stim_val):\n",
    "    vm = np.zeros(len(params[\"time\"]))\n",
    "    vm[0] = params[\"v_rest\"]\n",
    "\n",
    "    i_stim = np.zeros(len(params[\"time\"]))\n",
    "    i_stim[:4999] = i_stim_val\n",
    "\n",
    "    g_leak = 100e-6\n",
    "\n",
    "    vm = membrane_voltage(vm, i_stim, params[\"cm\"], g_leak, params)\n",
    "\n",
    "    plt.figure(figsize=(16, 6))\n",
    "    plt.plot(params[\"time\"], vm)\n",
    "    plt.xlabel(\"Time (s)\")\n",
    "    plt.ylabel(\"Membrane Voltage (V)\")\n",
    "    plt.title(\"Leaky Integrated Fire Model\")\n",
    "    plt.grid()\n",
    "    plt.show()\n",
    "\n",
    "widgets.interactive(interactive_plot, i_stim_val=i_stim_slider)"
   ]
  }
 ],
 "metadata": {
  "kernelspec": {
   "display_name": "Python 3",
   "language": "python",
   "name": "python3"
  },
  "language_info": {
   "codemirror_mode": {
    "name": "ipython",
    "version": 3
   },
   "file_extension": ".py",
   "mimetype": "text/x-python",
   "name": "python",
   "nbconvert_exporter": "python",
   "pygments_lexer": "ipython3",
   "version": "3.10.12"
  },
  "orig_nbformat": 4
 },
 "nbformat": 4,
 "nbformat_minor": 2
}
